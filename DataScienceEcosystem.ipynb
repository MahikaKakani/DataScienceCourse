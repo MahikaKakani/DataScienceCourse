{
 "cells": [
  {
   "cell_type": "markdown",
   "id": "fbd6d55e",
   "metadata": {},
   "source": [
    "# DataScienceEcosystem"
   ]
  },
  {
   "cell_type": "markdown",
   "id": "65668c2f",
   "metadata": {},
   "source": [
    "In this notebook, Data Science Tools and Ecosystem are summarized."
   ]
  },
  {
   "cell_type": "raw",
   "id": "df48369b",
   "metadata": {},
   "source": [
    "Some of the popular languages that Data Scientists use are:\n",
    "    1. Python\n",
    "    2. R\n",
    "    3. Java\n",
    "    4. Julia"
   ]
  },
  {
   "cell_type": "raw",
   "id": "b8de24e5",
   "metadata": {},
   "source": [
    "Some of the commonly used libraries used by Data Scientists include:\n",
    "    1. NumPy\n",
    "    2. Pandas\n",
    "    3. Matplotlib\n",
    "    4. Seaborn\n",
    "    5. TensorFlow\n",
    "    6. Scikit-learn"
   ]
  },
  {
   "cell_type": "raw",
   "id": "0faf3abd",
   "metadata": {},
   "source": [
    "Data Science Tools:\n",
    " Tableau\n",
    " TensorFlow\n",
    " MATLAB\n",
    " PowerBI"
   ]
  },
  {
   "cell_type": "markdown",
   "id": "7edeec2f",
   "metadata": {},
   "source": [
    "## Below are a few examples of evaluating arithmetic expressions in Python"
   ]
  },
  {
   "cell_type": "code",
   "execution_count": 3,
   "id": "0b2d993b",
   "metadata": {},
   "outputs": [
    {
     "data": {
      "text/plain": [
       "17"
      ]
     },
     "execution_count": 3,
     "metadata": {},
     "output_type": "execute_result"
    }
   ],
   "source": [
    "(3*4)+5\n",
    "# This a simple arithmetic expression to mutiply then add integers"
   ]
  },
  {
   "cell_type": "code",
   "execution_count": 6,
   "id": "27532f2f",
   "metadata": {},
   "outputs": [
    {
     "data": {
      "text/plain": [
       "3"
      ]
     },
     "execution_count": 6,
     "metadata": {},
     "output_type": "execute_result"
    }
   ],
   "source": [
    "200//60\n",
    "# This will convert 200 minutes to hours by diving by 60"
   ]
  },
  {
   "cell_type": "markdown",
   "id": "7d11c1fe",
   "metadata": {},
   "source": [
    "Objectives:\n",
    "    List popular languages for Data Science:\n",
    "        1. Python\n",
    "        2. R\n",
    "        3. Java\n",
    "        4. Julia"
   ]
  },
  {
   "cell_type": "markdown",
   "id": "26793cbf",
   "metadata": {},
   "source": [
    "# Author"
   ]
  },
  {
   "cell_type": "markdown",
   "id": "59c38975",
   "metadata": {},
   "source": [
    "Mahika Kakani"
   ]
  },
  {
   "cell_type": "code",
   "execution_count": null,
   "id": "290153a4",
   "metadata": {},
   "outputs": [],
   "source": []
  }
 ],
 "metadata": {
  "kernelspec": {
   "display_name": "Python 3 (ipykernel)",
   "language": "python",
   "name": "python3"
  },
  "language_info": {
   "codemirror_mode": {
    "name": "ipython",
    "version": 3
   },
   "file_extension": ".py",
   "mimetype": "text/x-python",
   "name": "python",
   "nbconvert_exporter": "python",
   "pygments_lexer": "ipython3",
   "version": "3.9.7"
  }
 },
 "nbformat": 4,
 "nbformat_minor": 5
}
